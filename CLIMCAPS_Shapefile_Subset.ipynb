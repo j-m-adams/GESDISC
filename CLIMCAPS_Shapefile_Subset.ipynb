{
 "cells": [
  {
   "cell_type": "markdown",
   "id": "eb09c027-fca5-4775-8957-e9afc5bcf77f",
   "metadata": {},
   "source": [
    "# <font color=#a0a0ff>Shapefile Subset with CLIMCAPS L2 Data Using L2SS Running Locally"
   ]
  },
  {
   "cell_type": "markdown",
   "id": "58cd2f1b-9a0c-4fc9-bfe1-6e1114d8246a",
   "metadata": {},
   "source": [
    "#### <font color=#a0a0ff>The following commands will get a copy of the L2SS code andinstall all the required Python packages. <br>It is only necessary to do these steps once. "
   ]
  },
  {
   "cell_type": "code",
   "execution_count": 1,
   "id": "d2a525b7-343f-49b8-becd-0744eea44396",
   "metadata": {
    "tags": []
   },
   "outputs": [
    {
     "name": "stdout",
     "output_type": "stream",
     "text": [
      "\u001b[34mInstalling dependencies from lock file\u001b[0m\n",
      "\n",
      "No dependencies to install or update\n",
      "\n",
      "\u001b[1mInstalling\u001b[0m the current project: \u001b[36ml2ss-py\u001b[0m (\u001b[39;1m1.5.0-alpha.0\u001b[0m\u001b[1mInstalling\u001b[0m the current project: \u001b[36ml2ss-py\u001b[0m (\u001b[32m1.5.0-alpha.0\u001b[0m)\n"
     ]
    }
   ],
   "source": [
    "#!git clone https://github.com/podaac/l2ss-py\n",
    "#!cd l2ss-py\n",
    "#!pip install packaging>=21.3\n",
    "#!pip install poetry\n",
    "#!poetry install "
   ]
  },
  {
   "cell_type": "code",
   "execution_count": 2,
   "id": "4677f279-5ff7-481b-8f98-b2524f8ec731",
   "metadata": {},
   "outputs": [],
   "source": [
    "from podaac.subsetter.subset import subset\n",
    "import os\n",
    "from shutil import copy\n",
    "import netCDF4 as nc4\n",
    "import numpy as np\n",
    "import shapefile as shp\n",
    "import cartopy\n",
    "import cartopy.crs as ccrs\n",
    "import cartopy.io.shapereader as shpreader\n",
    "from cartopy.mpl.gridliner import LONGITUDE_FORMATTER, LATITUDE_FORMATTER\n",
    "import matplotlib as mpl\n",
    "import matplotlib.pyplot as plt\n",
    "import matplotlib.ticker as mticker\n",
    "%matplotlib inline"
   ]
  },
  {
   "cell_type": "markdown",
   "id": "fe0a3af1-7990-41c5-9999-a4eeff17ccfa",
   "metadata": {},
   "source": [
    "### <font color=#a0a0ff>Use the result from a previous variable subset as the input file"
   ]
  },
  {
   "cell_type": "code",
   "execution_count": 3,
   "id": "c08304ea-d96e-487a-a2cf-ea4b6fadaf86",
   "metadata": {},
   "outputs": [],
   "source": [
    "path='/home/jovyan/GESDISC/sub_global/'\n",
    "f='SNDR.SNPP.CRIMSS.20151102T1718.m06.g174.L2_CLIMCAPS_RET.std.v02_28.G.200331153124_subsetted.nc4'\n",
    "fp=path+f\n",
    "fin='shp_input.nc'\n",
    "fout='shp_output.nc'\n",
    "copy(fp,fin)\n",
    "if os.path.isfile(fout): \n",
    "    os.remove(fout)"
   ]
  },
  {
   "cell_type": "markdown",
   "id": "f8e4c78e-e591-4d09-bc56-6b9b45b5ef43",
   "metadata": {},
   "source": [
    "#### <font color=#a0a0ff>Source of Brazil shapefile: \n",
    "https://data.humdata.org/dataset/f5f0648e-f085-4c85-8242-26bf6c942f40/resource/2f26be26-a081-4557-8572-58545cd70e9f/download/bra_adm_ibge_2020_shp.zip"
   ]
  },
  {
   "cell_type": "code",
   "execution_count": 4,
   "id": "abdfeb9d-aa15-4d0e-90f8-c7ffc2501422",
   "metadata": {},
   "outputs": [],
   "source": [
    "fshp = '/home/jovyan/Shapefiles/bra_admbnda_adm0_ibge_2020.shp'"
   ]
  },
  {
   "cell_type": "markdown",
   "id": "bf0c3b95-5606-48de-bd5c-d5da2078ca24",
   "metadata": {},
   "source": [
    "### <font color=#a0a0ff>Run the L2 subsetter by passing relevant arguments to the <code>subset()</code> module"
   ]
  },
  {
   "cell_type": "code",
   "execution_count": 5,
   "id": "55ae2633-4ac7-4004-9e11-6351c62406be",
   "metadata": {},
   "outputs": [
    {
     "name": "stderr",
     "output_type": "stream",
     "text": [
      "/srv/conda/envs/notebook/lib/python3.9/site-packages/geopandas/array.py:85: ShapelyDeprecationWarning: __len__ for multi-part geometries is deprecated and will be removed in Shapely 2.0. Check the length of the `geoms` property instead to get the  number of parts of a multi-part geometry.\n",
      "  aout[:] = out\n"
     ]
    },
    {
     "data": {
      "text/plain": [
       "array([[-68.1, -46.8],\n",
       "       [-11.3,   4.9]])"
      ]
     },
     "execution_count": 5,
     "metadata": {},
     "output_type": "execute_result"
    }
   ],
   "source": [
    "subset(fin,\n",
    "       None,        # this is where the Bounding Box info would be if this were a different demo\n",
    "       fout,\n",
    "       variables=['surf_air_temp','surf_air_temp_qc'],\n",
    "       shapefile=fshp) "
   ]
  },
  {
   "cell_type": "code",
   "execution_count": 6,
   "id": "64f94faf-919b-45c8-8417-3f2b610f8b49",
   "metadata": {},
   "outputs": [
    {
     "name": "stdout",
     "output_type": "stream",
     "text": [
      "/                        Group\n",
      "/atrack                  Dataset {33}\n",
      "/lat                     Dataset {33, 30}\n",
      "/lon                     Dataset {33, 30}\n",
      "/obs_time_tai93          Dataset {33, 30}\n",
      "/surf_air_temp           Dataset {33, 30}\n",
      "/surf_air_temp_qc        Dataset {33, 30}\n",
      "/xtrack                  Dataset {30}\n"
     ]
    }
   ],
   "source": [
    "!h5ls -r shp_test_output.nc"
   ]
  },
  {
   "cell_type": "markdown",
   "id": "ad788363-f424-4cda-a054-d6f9eb8b56c0",
   "metadata": {},
   "source": [
    "### <font color=#a0a0ff>Open the subset file and apply the Quality Flags to the data"
   ]
  },
  {
   "cell_type": "code",
   "execution_count": 7,
   "id": "d417c5eb-c76c-487f-8e07-f94c980d78a4",
   "metadata": {},
   "outputs": [],
   "source": [
    "f = nc4.Dataset('shp_test_output.nc','r')\n",
    "var  = f['surf_air_temp']\n",
    "qflg = f['surf_air_temp_qc']   \n",
    "lats = f['lat']\n",
    "lons = f['lon']\n",
    "\n",
    "# Quality flag meanings:\n",
    "# 0=best  1=good  2=do_not_use\n",
    "varQ = var[:]\n",
    "qf = qflg[:]\n",
    "np.place(varQ, qf>1, np.nan)"
   ]
  },
  {
   "cell_type": "code",
   "execution_count": 14,
   "id": "f65f6fdc-096b-4bcd-9446-26260db77a6e",
   "metadata": {},
   "outputs": [
    {
     "name": "stdout",
     "output_type": "stream",
     "text": [
      "(33, 30) (33, 30)\n"
     ]
    },
    {
     "data": {
      "text/plain": [
       "masked_array(\n",
       "  data=[[--, nan, 300.3652038574219, 300.9617004394531,\n",
       "         302.7356262207031, 302.670166015625, nan, 302.52801513671875,\n",
       "         303.7265319824219, 303.66387939453125, 304.60302734375, nan,\n",
       "         304.30517578125, 304.2801818847656, 303.982666015625,\n",
       "         303.82867431640625, nan, nan, 301.04071044921875,\n",
       "         301.9984130859375, 301.93597412109375, 302.11907958984375,\n",
       "         302.6703186035156, 302.8907775878906, 302.0836181640625,\n",
       "         302.24725341796875, 303.47686767578125, 303.451904296875,\n",
       "         304.78271484375, 305.8717041015625],\n",
       "        [--, 301.85418701171875, 301.39813232421875, 301.76544189453125,\n",
       "         302.871826171875, 305.1468200683594, nan, 304.6553649902344,\n",
       "         304.67352294921875, 305.09527587890625, 305.54779052734375,\n",
       "         304.7044677734375, 304.88275146484375, 304.7503662109375,\n",
       "         304.50421142578125, nan, nan, nan, 300.9909973144531,\n",
       "         301.8181457519531, nan, 302.7222900390625, 302.84417724609375,\n",
       "         302.8183288574219, 303.27508544921875, 302.6400146484375,\n",
       "         303.3954772949219, 303.8044128417969, 305.0728454589844,\n",
       "         305.64801025390625],\n",
       "        [--, nan, 304.93194580078125, 304.19287109375, 305.5292663574219,\n",
       "         nan, nan, 306.76739501953125, 306.1331481933594,\n",
       "         305.4986267089844, 305.7653503417969, nan, 304.95166015625,\n",
       "         305.1749572753906, 304.5565185546875, nan, nan, nan,\n",
       "         301.79266357421875, nan, 302.570556640625, 302.7408447265625,\n",
       "         303.28228759765625, nan, 303.341064453125, 302.7503662109375,\n",
       "         303.48138427734375, 303.75390625, 304.9065246582031,\n",
       "         305.66827392578125],\n",
       "        [--, 304.55828857421875, 304.888427734375, 306.506103515625,\n",
       "         307.6185607910156, nan, nan, nan, nan, 305.5273742675781,\n",
       "         305.320068359375, 305.2709655761719, nan, 303.91485595703125,\n",
       "         nan, 302.8440856933594, nan, nan, 303.13128662109375, nan,\n",
       "         302.8959045410156, 302.88104248046875, 302.9758605957031, nan,\n",
       "         301.4228820800781, nan, 303.9176025390625, 304.13214111328125,\n",
       "         305.04193115234375, 305.72259521484375],\n",
       "        [nan, 307.058349609375, 306.2257080078125, 307.49713134765625,\n",
       "         307.7127990722656, nan, nan, nan, nan, 304.6362609863281,\n",
       "         304.6723937988281, 304.8564758300781, nan, nan, nan, nan,\n",
       "         303.68359375, 303.74285888671875, 304.105712890625, nan,\n",
       "         303.4963073730469, 303.535888671875, 303.07666015625,\n",
       "         302.70849609375, nan, 301.6170959472656, 302.31298828125,\n",
       "         304.517333984375, 306.0354309082031, 306.32086181640625],\n",
       "        [305.4255065917969, 307.0446472167969, 306.43408203125,\n",
       "         306.877197265625, 307.1969299316406, nan, nan, nan, nan, nan,\n",
       "         304.43023681640625, 305.2306213378906, nan, 305.7491760253906,\n",
       "         304.7829284667969, 304.3498229980469, 304.85919189453125,\n",
       "         304.92535400390625, 304.869873046875, 304.330078125,\n",
       "         305.1286315917969, 304.39080810546875, 304.0904541015625, nan,\n",
       "         nan, nan, 302.772216796875, 305.0666198730469,\n",
       "         306.5034484863281, 307.25146484375],\n",
       "        [305.05712890625, 305.9825744628906, nan, 305.95709228515625,\n",
       "         307.1585998535156, 307.7696533203125, 307.33935546875,\n",
       "         305.8786315917969, nan, nan, 305.0372009277344, 305.73046875,\n",
       "         306.2933044433594, 306.32745361328125, 305.9246520996094, nan,\n",
       "         305.2919921875, 305.7666931152344, 305.4245910644531,\n",
       "         305.43133544921875, 305.8632507324219, 305.61334228515625,\n",
       "         305.6025390625, nan, nan, 300.15771484375, 301.134033203125,\n",
       "         303.12908935546875, 306.52899169921875, 307.7908935546875],\n",
       "        [nan, 304.61834716796875, 306.5872497558594, 305.9620361328125,\n",
       "         307.18194580078125, 307.7526550292969, 307.7049560546875,\n",
       "         305.6849365234375, nan, 305.4229736328125, 305.5437927246094,\n",
       "         305.3400573730469, 305.37103271484375, 306.52484130859375,\n",
       "         305.9481201171875, 306.95001220703125, 306.48651123046875,\n",
       "         306.6593322753906, 306.1924133300781, 306.2610778808594,\n",
       "         305.936767578125, 306.8106384277344, 306.294677734375, nan, nan,\n",
       "         300.7069091796875, 301.68359375, 303.8852233886719,\n",
       "         306.4360046386719, 307.2764892578125],\n",
       "        [303.26947021484375, 302.3983154296875, 306.0211181640625,\n",
       "         305.4983825683594, 305.95361328125, 307.193115234375, nan, nan,\n",
       "         306.43212890625, 306.6971435546875, 305.61370849609375,\n",
       "         305.5733337402344, 305.5592041015625, nan, 306.954345703125,\n",
       "         307.5572509765625, 307.3288879394531, 306.7746887207031,\n",
       "         306.7494201660156, 306.936279296875, 307.3382873535156,\n",
       "         307.5306091308594, 306.88330078125, 306.84906005859375,\n",
       "         304.62506103515625, 300.7465515136719, 303.5663146972656,\n",
       "         304.3283386230469, 306.8703308105469, 307.5737609863281],\n",
       "        [303.03155517578125, nan, 303.8414001464844, nan, nan, nan,\n",
       "         307.8581848144531, 308.2533264160156, 307.9268798828125,\n",
       "         307.78692626953125, 306.5425109863281, 306.62310791015625,\n",
       "         306.2810363769531, 307.2886047363281, 307.2664489746094,\n",
       "         307.392333984375, 307.30865478515625, 306.9613342285156,\n",
       "         307.0337829589844, 307.3145751953125, 307.5479736328125,\n",
       "         308.0371398925781, 307.9812316894531, 307.3616943359375,\n",
       "         306.3819885253906, 304.35260009765625, 304.19366455078125,\n",
       "         304.53875732421875, 306.1790466308594, 306.9807434082031]],\n",
       "  mask=[[ True, False, False, False, False, False, False, False, False,\n",
       "         False, False, False, False, False, False, False, False, False,\n",
       "         False, False, False, False, False, False, False, False, False,\n",
       "         False, False, False],\n",
       "        [ True, False, False, False, False, False, False, False, False,\n",
       "         False, False, False, False, False, False, False, False, False,\n",
       "         False, False, False, False, False, False, False, False, False,\n",
       "         False, False, False],\n",
       "        [ True, False, False, False, False, False, False, False, False,\n",
       "         False, False, False, False, False, False, False, False, False,\n",
       "         False, False, False, False, False, False, False, False, False,\n",
       "         False, False, False],\n",
       "        [ True, False, False, False, False, False, False, False, False,\n",
       "         False, False, False, False, False, False, False, False, False,\n",
       "         False, False, False, False, False, False, False, False, False,\n",
       "         False, False, False],\n",
       "        [False, False, False, False, False, False, False, False, False,\n",
       "         False, False, False, False, False, False, False, False, False,\n",
       "         False, False, False, False, False, False, False, False, False,\n",
       "         False, False, False],\n",
       "        [False, False, False, False, False, False, False, False, False,\n",
       "         False, False, False, False, False, False, False, False, False,\n",
       "         False, False, False, False, False, False, False, False, False,\n",
       "         False, False, False],\n",
       "        [False, False, False, False, False, False, False, False, False,\n",
       "         False, False, False, False, False, False, False, False, False,\n",
       "         False, False, False, False, False, False, False, False, False,\n",
       "         False, False, False],\n",
       "        [False, False, False, False, False, False, False, False, False,\n",
       "         False, False, False, False, False, False, False, False, False,\n",
       "         False, False, False, False, False, False, False, False, False,\n",
       "         False, False, False],\n",
       "        [False, False, False, False, False, False, False, False, False,\n",
       "         False, False, False, False, False, False, False, False, False,\n",
       "         False, False, False, False, False, False, False, False, False,\n",
       "         False, False, False],\n",
       "        [False, False, False, False, False, False, False, False, False,\n",
       "         False, False, False, False, False, False, False, False, False,\n",
       "         False, False, False, False, False, False, False, False, False,\n",
       "         False, False, False]],\n",
       "  fill_value=9.96921e+36,\n",
       "  dtype=float32)"
      ]
     },
     "execution_count": 14,
     "metadata": {},
     "output_type": "execute_result"
    }
   ],
   "source": [
    "print(lats.shape,lons.shape)\n",
    "varQ[0:10][0:10]"
   ]
  },
  {
   "cell_type": "code",
   "execution_count": null,
   "id": "01a8f6c3-75dc-497b-a82a-46bc9562cf58",
   "metadata": {},
   "outputs": [],
   "source": []
  },
  {
   "cell_type": "code",
   "execution_count": null,
   "id": "ac11597a-29e6-4156-8663-ee4fc883eed0",
   "metadata": {},
   "outputs": [],
   "source": []
  },
  {
   "cell_type": "code",
   "execution_count": null,
   "id": "8e253731-d826-4dff-bc3a-356e02634bbf",
   "metadata": {},
   "outputs": [],
   "source": []
  },
  {
   "cell_type": "code",
   "execution_count": 15,
   "id": "a4aef31d-41d2-4c34-9b86-dda5a1d7b982",
   "metadata": {},
   "outputs": [],
   "source": [
    "def DrawColorbar(fig,ax,p,units):\n",
    "    buf = 0.01 # space between right edge of plot and left edge of colorbar\n",
    "    wid = 0.01 # width of colorbar\n",
    "    pos = ax.get_position()\n",
    "    cbx = pos.x1 + buf\n",
    "    cby = pos.bounds[1]\n",
    "    cbh = pos.bounds[3]\n",
    "    cax = fig.add_axes([cbx, cby, wid, cbh])\n",
    "    cb  = plt.colorbar(p, cax=cax)\n",
    "    b = plt.title(units)"
   ]
  },
  {
   "cell_type": "code",
   "execution_count": 16,
   "id": "8fce1073-080e-4e3b-ab97-a5296365664a",
   "metadata": {},
   "outputs": [],
   "source": [
    "shapes = list(shpreader.Reader(fshp).geometries())"
   ]
  },
  {
   "cell_type": "code",
   "execution_count": 17,
   "id": "dd158914-8a73-446c-a784-a3b010e0f645",
   "metadata": {},
   "outputs": [],
   "source": [
    "# Set the domain to the area around Brazil \n",
    "\n",
    "\n"
   ]
  },
  {
   "cell_type": "code",
   "execution_count": 28,
   "id": "0e9c1419-bf14-438b-89f4-4fe17427e657",
   "metadata": {},
   "outputs": [
    {
     "data": {
      "text/plain": [
       "<Figure size 1440x720 with 0 Axes>"
      ]
     },
     "metadata": {},
     "output_type": "display_data"
    }
   ],
   "source": [
    "# Draw a scatter plot\n",
    "fig = plt.figure(figsize=(20,10))"
   ]
  },
  {
   "cell_type": "code",
   "execution_count": 29,
   "id": "086c72f3-4b9a-440d-bf6f-1e3aa23d0f22",
   "metadata": {},
   "outputs": [],
   "source": [
    "ax = fig.add_subplot(1,1,1,projection=ccrs.PlateCarree())"
   ]
  },
  {
   "cell_type": "code",
   "execution_count": null,
   "id": "3a5bbf2d-70ac-4e55-8e32-8aa040ce2a5d",
   "metadata": {},
   "outputs": [],
   "source": [
    "myExtent = [-74,-46,-15,13]    \n",
    "ax.set_extent(myExtent)"
   ]
  },
  {
   "cell_type": "code",
   "execution_count": null,
   "id": "c12c3345-8e25-40c4-903b-68120096d036",
   "metadata": {},
   "outputs": [],
   "source": [
    "p = ax.scatter(lons[:], lats[:], c=varQ[:], cmap=plt.cm.Spectral_r, \n",
    "               marker='.', s=150, transform=ccrs.PlateCarree())"
   ]
  },
  {
   "cell_type": "code",
   "execution_count": 25,
   "id": "2dae5a7f-ea26-4b7c-9c35-c1a7cb2d40b8",
   "metadata": {},
   "outputs": [
    {
     "data": {
      "image/png": "[encoded data removed]",
      "text/plain": [
       "<Figure size 432x288 with 1 Axes>"
      ]
     },
     "metadata": {
      "needs_background": "light"
     },
     "output_type": "display_data"
    }
   ],
   "source": [
    "title = 'Surface Air Temperature (Quality Flag Applied) -- Brazil Shapefile Subset'\n",
    "b = plt.title(title)"
   ]
  },
  {
   "cell_type": "code",
   "execution_count": 26,
   "id": "c6f38f8b-8bb2-49e5-9fc3-9d283a9570cf",
   "metadata": {},
   "outputs": [
    {
     "data": {
      "image/png": "[encoded data removed]",
      "text/plain": [
       "<Figure size 432x288 with 1 Axes>"
      ]
     },
     "metadata": {
      "needs_background": "light"
     },
     "output_type": "display_data"
    }
   ],
   "source": [
    "# Add coastlines, Brazil shapefile and gridlines\n",
    "ax.coastlines(resolution=\"50m\",linewidth=0.75)\n",
    "ax.add_geometries(shapes, ccrs.PlateCarree(),edgecolor='blue',facecolor='none',alpha=0.7)\n",
    "gl = ax.gridlines(crs=ccrs.PlateCarree(), draw_labels=True,\n",
    "                  linewidth=0.8, color='#555555', alpha=0.5, linestyle='--')\n",
    "gl.top_labels = False\n",
    "gl.right_labels = False\n",
    "gl.xlines = True\n",
    "DrawColorbar(fig,ax,p,'Kelvin')\n"
   ]
  },
  {
   "cell_type": "code",
   "execution_count": 27,
   "id": "d2fcc8f6-5677-44b6-87ca-14b6c228f8b8",
   "metadata": {},
   "outputs": [],
   "source": [
    "f.close()"
   ]
  },
  {
   "cell_type": "code",
   "execution_count": null,
   "id": "6283ed8f-e45a-4e08-81e4-5c01f299fd07",
   "metadata": {},
   "outputs": [],
   "source": []
  },
  {
   "cell_type": "code",
   "execution_count": null,
   "id": "def5e151-efdd-4d22-96ee-8382965c11c1",
   "metadata": {},
   "outputs": [],
   "source": []
  }
 ],
 "metadata": {
  "kernelspec": {
   "display_name": "Python 3 (ipykernel)",
   "language": "python",
   "name": "python3"
  },
  "language_info": {
   "codemirror_mode": {
    "name": "ipython",
    "version": 3
   },
   "file_extension": ".py",
   "mimetype": "text/x-python",
   "name": "python",
   "nbconvert_exporter": "python",
   "pygments_lexer": "ipython3",
   "version": "3.9.10"
  }
 },
 "nbformat": 4,
 "nbformat_minor": 5
}
