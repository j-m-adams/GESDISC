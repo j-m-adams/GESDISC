{
 "cells": [
  {
   "cell_type": "markdown",
   "id": "eb09c027-fca5-4775-8957-e9afc5bcf77f",
   "metadata": {},
   "source": [
    "# <font color=#a0a0ff>Shapefile Subset with CLIMCAPS L2 Data Using L2SS Running Locally"
   ]
  },
  {
   "cell_type": "markdown",
   "id": "58cd2f1b-9a0c-4fc9-bfe1-6e1114d8246a",
   "metadata": {},
   "source": [
    "#### <font color=#a0a0ff>The following commands will get a copy of the L2SS code andinstall all the required Python packages. <br>It is only necessary to do these steps once. "
   ]
  },
  {
   "cell_type": "code",
   "execution_count": null,
   "id": "d2a525b7-343f-49b8-becd-0744eea44396",
   "metadata": {
    "tags": []
   },
   "outputs": [],
   "source": [
    "#!git clone https://github.com/podaac/l2ss-py\n",
    "#!cd l2ss-py\n",
    "#!pip install packaging>=21.3\n",
    "#!pip install poetry\n",
    "#!poetry install "
   ]
  },
  {
   "cell_type": "code",
   "execution_count": 1,
   "id": "4677f279-5ff7-481b-8f98-b2524f8ec731",
   "metadata": {},
   "outputs": [],
   "source": [
    "from podaac.subsetter.subset import subset\n",
    "import os\n",
    "from shutil import copy\n",
    "import netCDF4 as nc4\n",
    "import numpy as np\n",
    "import shapefile as shp\n",
    "import cartopy\n",
    "import cartopy.crs as ccrs\n",
    "import cartopy.io.shapereader as shpreader\n",
    "from cartopy.mpl.gridliner import LONGITUDE_FORMATTER, LATITUDE_FORMATTER\n",
    "import matplotlib as mpl\n",
    "import matplotlib.pyplot as plt\n",
    "import matplotlib.ticker as mticker\n",
    "%matplotlib inline"
   ]
  },
  {
   "cell_type": "code",
   "execution_count": 2,
   "id": "a4aef31d-41d2-4c34-9b86-dda5a1d7b982",
   "metadata": {},
   "outputs": [],
   "source": [
    "def DrawColorbar(fig,ax,p,units):\n",
    "    buf = 0.01 # space between right edge of plot and left edge of colorbar\n",
    "    wid = 0.01 # width of colorbar\n",
    "    pos = ax.get_position()\n",
    "    cbx = pos.x1 + buf\n",
    "    cby = pos.bounds[1]\n",
    "    cbh = pos.bounds[3]\n",
    "    cax = fig.add_axes([cbx, cby, wid, cbh])\n",
    "    cb  = plt.colorbar(p, cax=cax)\n",
    "    b = plt.title(units)\n",
    "\n",
    "def plotThis(fname,label):\n",
    "    f = nc4.Dataset(fname,'r')\n",
    "    var  = f['surf_air_temp']\n",
    "    qflg = f['surf_air_temp_qc']   \n",
    "    lats = f['lat']\n",
    "    lons = f['lon']\n",
    "\n",
    "    # Quality flag meanings:\n",
    "    # 0=best  1=good  2=do_not_use\n",
    "    varQ = var[:]\n",
    "    qf = qflg[:]\n",
    "    np.place(varQ, qf>1, np.nan)\n",
    "  \n",
    "    myExtent = [-74,-46,-15,13]   # this includes area of Brazil shapefile\n",
    "    shapes = list(shpreader.Reader(fshp).geometries())\n",
    "    # Draw a scatter plot\n",
    "    fig = plt.figure(figsize=(20,10))\n",
    "    ax = fig.add_subplot(1,1,1,projection=ccrs.PlateCarree())\n",
    "    ax.set_extent(myExtent)\n",
    "    p = ax.scatter(lons[:], lats[:], c=varQ, cmap=plt.cm.Spectral_r, \n",
    "                   marker='.', s=150, transform=ccrs.PlateCarree())\n",
    "    title = 'Surface Air Temperature (Quality Flag Applied) -- '+label\n",
    "    b = plt.title(title)\n",
    "\n",
    "    # Add coastlines and gridlines\n",
    "    ax.coastlines(resolution=\"50m\",linewidth=0.8)\n",
    "    ax.add_geometries(shapes, ccrs.PlateCarree(),edgecolor='blue',facecolor='none',alpha=0.7)\n",
    "    gl = ax.gridlines(crs=ccrs.PlateCarree(), draw_labels=True,\n",
    "                      linewidth=0.5, color='#777777', alpha=0.8, linestyle='--')\n",
    "    gl.top_labels = False\n",
    "    gl.right_labels = False\n",
    "    gl.xlines = True\n",
    "    DrawColorbar(fig,ax,p,'Kelvin')\n",
    "    f.close()"
   ]
  },
  {
   "cell_type": "markdown",
   "id": "fe0a3af1-7990-41c5-9999-a4eeff17ccfa",
   "metadata": {},
   "source": [
    "### <font color=#a0a0ff>Use the result from a previous variable subset as the input file"
   ]
  },
  {
   "cell_type": "code",
   "execution_count": 3,
   "id": "c08304ea-d96e-487a-a2cf-ea4b6fadaf86",
   "metadata": {},
   "outputs": [],
   "source": [
    "path='/home/jovyan/sub_global/'\n",
    "f='SNDR.SNPP.CRIMSS.20151102T1718.m06.g174.L2_CLIMCAPS_RET.std.v02_28.G.200331153124_subsetted.nc4'\n",
    "fp=path+f\n",
    "fin='shp_input.nc'\n",
    "fout='shp_output.nc'\n",
    "copy(fp,fin)\n",
    "if os.path.isfile(fout): \n",
    "    os.remove(fout)"
   ]
  },
  {
   "cell_type": "markdown",
   "id": "f8e4c78e-e591-4d09-bc56-6b9b45b5ef43",
   "metadata": {},
   "source": [
    "#### <font color=#a0a0ff>Source of Brazil shapefile: \n",
    "https://data.humdata.org/dataset/f5f0648e-f085-4c85-8242-26bf6c942f40/resource/2f26be26-a081-4557-8572-58545cd70e9f/download/bra_adm_ibge_2020_shp.zip"
   ]
  },
  {
   "cell_type": "code",
   "execution_count": 4,
   "id": "abdfeb9d-aa15-4d0e-90f8-c7ffc2501422",
   "metadata": {},
   "outputs": [],
   "source": [
    "fshp = '/home/jovyan/Shapefiles/bra_admbnda_adm0_ibge_2020.shp'"
   ]
  },
  {
   "cell_type": "markdown",
   "id": "bf0c3b95-5606-48de-bd5c-d5da2078ca24",
   "metadata": {},
   "source": [
    "### <font color=#a0a0ff>Run the L2 subsetter by passing relevant arguments to the <code>subset()</code> module"
   ]
  },
  {
   "cell_type": "code",
   "execution_count": 6,
   "id": "55ae2633-4ac7-4004-9e11-6351c62406be",
   "metadata": {},
   "outputs": [
    {
     "data": {
      "text/plain": [
       "array([[-68.1, -46.8],\n",
       "       [-11.3,   4.9]])"
      ]
     },
     "execution_count": 6,
     "metadata": {},
     "output_type": "execute_result"
    }
   ],
   "source": [
    "subset(fin,\n",
    "       None,        # this is where the Bounding Box info would be if this were a different demo\n",
    "       fout,\n",
    "       variables=['surf_air_temp','surf_air_temp_qc'],\n",
    "       shapefile=fshp) "
   ]
  },
  {
   "cell_type": "code",
   "execution_count": 7,
   "id": "64f94faf-919b-45c8-8417-3f2b610f8b49",
   "metadata": {},
   "outputs": [
    {
     "name": "stdout",
     "output_type": "stream",
     "text": [
      "/                        Group\n",
      "/atrack                  Dataset {33}\n",
      "/lat                     Dataset {33, 30}\n",
      "/lon                     Dataset {33, 30}\n",
      "/obs_time_tai93          Dataset {33, 30}\n",
      "/surf_air_temp           Dataset {33, 30}\n",
      "/surf_air_temp_qc        Dataset {33, 30}\n",
      "/xtrack                  Dataset {30}\n"
     ]
    }
   ],
   "source": [
    "!h5ls -r shp_test_output.nc"
   ]
  },
  {
   "cell_type": "code",
   "execution_count": null,
   "id": "5f8c5f85-8778-404a-98d2-42bb8046238f",
   "metadata": {},
   "outputs": [],
   "source": [
    "plotThis('shp_test_output.nc','Brazil Shapefile Subset')"
   ]
  },
  {
   "cell_type": "code",
   "execution_count": null,
   "id": "12bf15dd-4619-4f4d-9471-bffbd03fcfc4",
   "metadata": {},
   "outputs": [],
   "source": []
  }
 ],
 "metadata": {
  "kernelspec": {
   "display_name": "Python 3 (ipykernel)",
   "language": "python",
   "name": "python3"
  },
  "language_info": {
   "codemirror_mode": {
    "name": "ipython",
    "version": 3
   },
   "file_extension": ".py",
   "mimetype": "text/x-python",
   "name": "python",
   "nbconvert_exporter": "python",
   "pygments_lexer": "ipython3",
   "version": "3.9.10"
  }
 },
 "nbformat": 4,
 "nbformat_minor": 5
}
