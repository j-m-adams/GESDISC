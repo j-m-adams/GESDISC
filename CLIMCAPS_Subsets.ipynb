{
 "cells": [
  {
   "cell_type": "markdown",
   "id": "0052f293-0ad7-4501-a350-c5c3d92ac276",
   "metadata": {
    "tags": []
   },
   "source": [
    "# <font color=#a0a0ff>Variable, Spatial, and Temporal Subsets with  CLIMCAPS Level2 data "
   ]
  },
  {
   "cell_type": "markdown",
   "id": "74b44146-80c4-4ddd-8b49-bbd968173f63",
   "metadata": {},
   "source": [
    "### HarmonyPy is a python package that simplifies access to NASA Earthdata Harmony Services.  \n",
    "See https://harmony-py.readthedocs.io/en/latest/ for detailed documentation on HarmonyPy."
   ]
  },
  {
   "cell_type": "markdown",
   "id": "db815a9d-41a1-4c30-ba72-ad2065172b47",
   "metadata": {},
   "source": [
    "### Install HarmonyPy\n",
    "\n",
    "Make sure to install `harmony-py` and its dependencies into your current Python environment prior to executing the notebook.  \n",
    "You can execute this command in a terminal window:\n",
    "\n",
    "```  \n",
    "$ pip install -U harmony-py \n",
    "\n",
    "```\n",
    "\n",
    "Or you can install this and any other necessary libraries directly into your Jupyter notebook Python kernel:\n",
    "\n",
    "```\n",
    "!{sys.executable} -m pip install -U harmony-py\n",
    "```\n",
    "Either way, you only need to do this once. \n",
    "\n"
   ]
  },
  {
   "cell_type": "code",
   "execution_count": null,
   "id": "42e546cc-d243-4661-b3e4-d01283c2819a",
   "metadata": {},
   "outputs": [],
   "source": [
    "# import sys\n",
    "# !{sys.executable} -m pip install -U harmony-py"
   ]
  },
  {
   "cell_type": "markdown",
   "id": "adcf5893-3db9-4cf3-b168-c5f76f15990a",
   "metadata": {},
   "source": [
    "## Import the harmony-py library and additional required packages "
   ]
  },
  {
   "cell_type": "code",
   "execution_count": 2,
   "id": "d0dd2a07",
   "metadata": {},
   "outputs": [],
   "source": [
    "import datetime as dt\n",
    "from IPython.display import display, JSON\n",
    "from harmony import BBox, Client, Collection, Request\n",
    "from harmony.config import Environment\n",
    "import os\n",
    "from shutil import copy\n",
    "import xarray as xr\n",
    "import netCDF4 as nc4\n",
    "import numpy as np\n",
    "import cartopy\n",
    "import cartopy.crs as ccrs\n",
    "from cartopy.mpl.gridliner import LONGITUDE_FORMATTER, LATITUDE_FORMATTER\n",
    "import matplotlib as mpl\n",
    "import matplotlib.pyplot as plt\n",
    "import matplotlib.ticker as mticker\n",
    "%matplotlib inline"
   ]
  },
  {
   "cell_type": "markdown",
   "id": "557100c9-f365-4366-a316-a3ec78248f74",
   "metadata": {},
   "source": [
    "### Construct the Harmony Request\n",
    "#### <em>Collection: <font color='orange'>Suomi NPP CrIMSS Level 2 CLIMCAPS Full Spectral Resolution: Atmosphere cloud and surface geophysical state</font></em>\n",
    "#### <em>Variable: <font color='orange'>Surface Air Temperature</font></em>"
   ]
  },
  {
   "cell_type": "code",
   "execution_count": 2,
   "id": "3836a862",
   "metadata": {},
   "outputs": [],
   "source": [
    "# Module to construct the Harmony request using Spatial and Temporal inputs  \n",
    "def get_request(minLon, minLat, maxLon, maxLat, minTime, maxTime):\n",
    "    request = Request(\n",
    "        collection = Collection(id='C1692982075-GES_DISC'), # SNDRSNIML2CCPRET_2 in PROD\n",
    "        variables=['/surf_air_temp','/surf_air_temp_qc'],   # These must have UMM-Var entries\n",
    "        spatial = BBox(minLon, minLat, maxLon, maxLat),\n",
    "        temporal = {'start': minTime, 'stop': maxTime},\n",
    "    )\n",
    "    if request.is_valid() is False:\n",
    "        print('Invalid request')\n",
    "        return False\n",
    "    else:\n",
    "        return request"
   ]
  },
  {
   "cell_type": "code",
   "execution_count": 3,
   "id": "9b027d7e",
   "metadata": {},
   "outputs": [],
   "source": [
    "# Submit Harmony requests, get back the file name of the downloaded result\n",
    "def submit_request(request, name):\n",
    "    # submit the job, save the jobID, print a URL to check job status in browser\n",
    "    job_id = harmony_client.submit(request)\n",
    "    print('https://harmony.earthdata.nasa.gov/jobs/'+job_id)\n",
    "\n",
    "    # show the progress bar for the job, get the result URLs\n",
    "    harmony_client.wait_for_processing(job_id, show_progress=True)\n",
    "    urls = harmony_client.result_urls(job_id, show_progress=True)\n",
    "\n",
    "    # create a local subdir, download the results \n",
    "    dir_name = './sub_'+name\n",
    "    if not os.path.exists(dir_name):\n",
    "        os.mkdir(dir_name)\n",
    "    results = harmony_client.download_all(job_id, directory=dir_name, overwrite=True)\n",
    "\n",
    "    # stash the file names for easy reference\n",
    "    file_names = [f.result() for f in results]\n",
    "\n",
    "    # return the list of filenames\n",
    "    return file_names, urls"
   ]
  },
  {
   "cell_type": "code",
   "execution_count": 4,
   "id": "09baf06b",
   "metadata": {},
   "outputs": [],
   "source": [
    "def DrawColorbar(fig,ax,p,units):\n",
    "    buf = 0.01 # space between right edge of plot and left edge of colorbar\n",
    "    wid = 0.01 # width of colorbar\n",
    "    pos = ax.get_position()\n",
    "    cbx = pos.x1 + buf\n",
    "    cby = pos.bounds[1]\n",
    "    cbh = pos.bounds[3]\n",
    "    cax = fig.add_axes([cbx, cby, wid, cbh])\n",
    "    cb  = plt.colorbar(p, cax=cax)\n",
    "    b = plt.title(units)\n",
    "    \n",
    "def plotThis(fname,label):\n",
    "    f = nc4.Dataset(fname,'r')\n",
    "    var  = f['surf_air_temp']\n",
    "    qflg = f['surf_air_temp_qc']   \n",
    "    lats = f['lat']\n",
    "    lons = f['lon']\n",
    "\n",
    "    # Quality flag meanings:\n",
    "    # 0=best  1=good  2=do_not_use\n",
    "    varQ = var[:]\n",
    "    qf = qflg[:]\n",
    "    np.place(varQ, qf>1, np.nan)\n",
    "\n",
    "    myExtent = [-71,-46,-12,13]   \n",
    "    myExtent = [-74,-46,-15,13]   # this includes area of Brazil shapefile\n",
    "\n",
    "    # Draw a scatter plot\n",
    "#    plt.style.use('dark_background')\n",
    "    fig = plt.figure(figsize=(20,10))\n",
    "    ax = fig.add_subplot(1,1,1,projection=ccrs.PlateCarree())\n",
    "    ax.set_extent(myExtent)\n",
    "    p = ax.scatter(lons[:], lats[:], c=varQ, cmap=plt.cm.Spectral_r, \n",
    "                   marker='.', s=150, transform=ccrs.PlateCarree())\n",
    "    title = 'Surface Air Temperature (Quality Flag Applied) -- '+label\n",
    "    b = plt.title(title)\n",
    "\n",
    "    # Add coastlines and gridlines\n",
    "    ax.coastlines(resolution=\"50m\",linewidth=0.75)\n",
    "    gl = ax.gridlines(crs=ccrs.PlateCarree(), draw_labels=True,\n",
    "                      linewidth=0.8, color='#555555', alpha=0.5, linestyle='--')\n",
    "    gl.top_labels = False\n",
    "    gl.right_labels = False\n",
    "    gl.xlines = True\n",
    "    DrawColorbar(fig,ax,p,'Kelvin')\n",
    "    f.close()"
   ]
  },
  {
   "cell_type": "markdown",
   "id": "0dbc84b7",
   "metadata": {},
   "source": [
    "# Set the Environment: <font color='green'>PROD</font>, UAT, or LOCAL "
   ]
  },
  {
   "cell_type": "code",
   "execution_count": 5,
   "id": "6b25c626",
   "metadata": {},
   "outputs": [],
   "source": [
    "harmony_client = Client(env=Environment.PROD)"
   ]
  },
  {
   "cell_type": "code",
   "execution_count": 6,
   "id": "7d1ebdad",
   "metadata": {},
   "outputs": [],
   "source": [
    "# Global \n",
    "name = 'global'\n",
    "minLon = -180\n",
    "maxLon = 180\n",
    "minLat = -90\n",
    "maxLat = 90\n",
    "minTime = dt.datetime(2015, 11, 2, 17, 18,  0,  0)\n",
    "maxTime = dt.datetime(2015, 11, 2, 17, 23, 59, 59)"
   ]
  },
  {
   "cell_type": "code",
   "execution_count": 7,
   "id": "5a06fb5c",
   "metadata": {},
   "outputs": [
    {
     "name": "stdout",
     "output_type": "stream",
     "text": [
      "https://harmony.earthdata.nasa.gov/jobs/daa6ab9d-3848-4ec6-9e27-9ae9981ee9cb\n"
     ]
    },
    {
     "name": "stderr",
     "output_type": "stream",
     "text": [
      " [ Processing: 100% ] |###################################################| [|]\n"
     ]
    }
   ],
   "source": [
    "# Create the subset request \n",
    "req = get_request(minLon, minLat, maxLon, maxLat, minTime, maxTime)\n",
    "# Submit the Harmony request\n",
    "if req: \n",
    "    global_files, global_urls = submit_request(req, name)"
   ]
  },
  {
   "cell_type": "code",
   "execution_count": 8,
   "id": "2ea1fac5",
   "metadata": {},
   "outputs": [
    {
     "name": "stdout",
     "output_type": "stream",
     "text": [
      "URLs:\n"
     ]
    },
    {
     "name": "stderr",
     "output_type": "stream",
     "text": [
      " [ Processing: 100% ] |###################################################| [|]\n"
     ]
    },
    {
     "name": "stdout",
     "output_type": "stream",
     "text": [
      "https://harmony.earthdata.nasa.gov/service-results/harmony-prod-staging/public/podaac/l2-subsetter/ea4138a7-c66e-421b-8d85-6b8b350a75ad/SNDR.SNPP.CRIMSS.20151102T1718.m06.g174.L2_CLIMCAPS_RET.std.v02_28.G.200331153124_subsetted.nc4\n",
      "https://harmony.earthdata.nasa.gov/service-results/harmony-prod-staging/public/podaac/l2-subsetter/ea4138a7-c66e-421b-8d85-6b8b350a75ad/SNDR.SNPP.CRIMSS.20151102T1712.m06.g173.L2_CLIMCAPS_RET.std.v02_28.G.200331153124_subsetted.nc4\n",
      "Downloaded Files:\n",
      "./sub_global/SNDR.SNPP.CRIMSS.20151102T1718.m06.g174.L2_CLIMCAPS_RET.std.v02_28.G.200331153124_subsetted.nc4\n",
      "./sub_global/SNDR.SNPP.CRIMSS.20151102T1712.m06.g173.L2_CLIMCAPS_RET.std.v02_28.G.200331153124_subsetted.nc4\n"
     ]
    }
   ],
   "source": [
    "print('URLs:')\n",
    "for n in global_urls: print(n)\n",
    "print('Downloaded Files:')\n",
    "for n in global_files: print(n)"
   ]
  },
  {
   "cell_type": "code",
   "execution_count": 9,
   "id": "ba9ff2d4-d892-449f-824e-5fc33a53489b",
   "metadata": {},
   "outputs": [
    {
     "name": "stdout",
     "output_type": "stream",
     "text": [
      "/                        Group\n",
      "/atrack                  Dataset {44}\n",
      "/lat                     Dataset {44, 30}\n",
      "/lon                     Dataset {44, 30}\n",
      "/obs_time_tai93          Dataset {44, 30}\n",
      "/surf_air_temp           Dataset {44, 30}\n",
      "/surf_air_temp_qc        Dataset {44, 30}\n",
      "/xtrack                  Dataset {30}\n"
     ]
    }
   ],
   "source": [
    "!h5ls -r ./sub_global/SNDR.SNPP.CRIMSS.20151102T1718.m06.g174.L2_CLIMCAPS_RET.std.v02_28.G.200331153124_subsetted.nc4"
   ]
  },
  {
   "cell_type": "code",
   "execution_count": 3,
   "id": "a30e97c9-bded-4cd7-b8b4-1d07d121bc01",
   "metadata": {},
   "outputs": [],
   "source": [
    "fname = '/home/jovyan/GESDISC/sub_global/SNDR.SNPP.CRIMSS.20151102T1718.m06.g174.L2_CLIMCAPS_RET.std.v02_28.G.200331153124_subsetted.nc4'\n",
    "f = nc4.Dataset(fname,'r')\n",
    "var  = f['surf_air_temp']\n",
    "qflg = f['surf_air_temp_qc']   \n",
    "lats = f['lat']\n",
    "lons = f['lon']\n",
    "\n",
    "# Quality flag meanings:\n",
    "# 0=best  1=good  2=do_not_use\n",
    "varQ = var[:]\n",
    "qf = qflg[:]\n",
    "np.place(varQ, qf>1, np.nan)\n",
    "\n",
    "\n",
    " "
   ]
  },
  {
   "cell_type": "code",
   "execution_count": 4,
   "id": "c6dd0eee-6ac1-45b6-84c6-383151ab1d2e",
   "metadata": {},
   "outputs": [
    {
     "data": {
      "text/plain": [
       "masked_array(\n",
       "  data=[[nan, nan, 300.3652038574219, ..., 303.451904296875,\n",
       "         304.78271484375, 305.8717041015625],\n",
       "        [302.6757507324219, 301.85418701171875, 301.39813232421875, ...,\n",
       "         303.8044128417969, 305.0728454589844, 305.64801025390625],\n",
       "        [302.9038391113281, nan, 304.93194580078125, ..., 303.75390625,\n",
       "         304.9065246582031, 305.66827392578125],\n",
       "        ...,\n",
       "        [nan, 302.2659912109375, 302.3379211425781, ...,\n",
       "         301.5162658691406, 301.2024841308594, 300.5536804199219],\n",
       "        [nan, 303.29083251953125, 303.7071838378906, ...,\n",
       "         301.4264221191406, 300.9001159667969, 300.6138000488281],\n",
       "        [301.677734375, nan, 304.5642395019531, ..., --, --, --]],\n",
       "  mask=[[False, False, False, ..., False, False, False],\n",
       "        [False, False, False, ..., False, False, False],\n",
       "        [False, False, False, ..., False, False, False],\n",
       "        ...,\n",
       "        [False, False, False, ..., False, False, False],\n",
       "        [False, False, False, ..., False, False, False],\n",
       "        [False, False, False, ...,  True,  True,  True]],\n",
       "  fill_value=9.96921e+36,\n",
       "  dtype=float32)"
      ]
     },
     "execution_count": 4,
     "metadata": {},
     "output_type": "execute_result"
    }
   ],
   "source": [
    "varQ"
   ]
  },
  {
   "cell_type": "code",
   "execution_count": null,
   "id": "5190b456-9f9c-4406-b27c-190ccff61b50",
   "metadata": {},
   "outputs": [],
   "source": [
    "    myExtent = [-71,-46,-12,13]   \n",
    "    myExtent = [-74,-46,-15,13]   # this includes area of Brazil shapefile\n",
    "\n",
    "    # Draw a scatter plot\n",
    "#    plt.style.use('dark_background')\n",
    "    fig = plt.figure(figsize=(20,10))\n",
    "    ax = fig.add_subplot(1,1,1,projection=ccrs.PlateCarree())\n",
    "    ax.set_extent(myExtent)\n",
    "    p = ax.scatter(lons[:], lats[:], c=varQ, cmap=plt.cm.Spectral_r, \n",
    "                   marker='.', s=150, transform=ccrs.PlateCarree())\n",
    "    title = 'Surface Air Temperature (Quality Flag Applied) -- '+label\n",
    "    b = plt.title(title)\n"
   ]
  },
  {
   "cell_type": "code",
   "execution_count": null,
   "id": "198fe4e4-02c1-409a-827d-76f94c16ced8",
   "metadata": {},
   "outputs": [],
   "source": []
  },
  {
   "cell_type": "code",
   "execution_count": null,
   "id": "74732457-fccd-4eda-8e76-8f528c5d317a",
   "metadata": {},
   "outputs": [],
   "source": []
  },
  {
   "cell_type": "code",
   "execution_count": null,
   "id": "3b1e3133-8d53-4ee0-ab81-872af957d224",
   "metadata": {},
   "outputs": [],
   "source": []
  },
  {
   "cell_type": "code",
   "execution_count": null,
   "id": "a38992ca",
   "metadata": {},
   "outputs": [],
   "source": [
    "plotThis(global_files[0],'Whole Granule')"
   ]
  },
  {
   "cell_type": "code",
   "execution_count": null,
   "id": "289c9fdb",
   "metadata": {},
   "outputs": [],
   "source": [
    "# Bounding Box \n",
    "name = 'bbox'\n",
    "minLon = -60\n",
    "maxLon = -55\n",
    "minLat = 0\n",
    "maxLat = 5\n",
    "minTime = dt.datetime(2015, 11, 2, 17, 18,  0,  0)\n",
    "maxTime = dt.datetime(2015, 11, 2, 17, 23, 59, 59)"
   ]
  },
  {
   "cell_type": "code",
   "execution_count": null,
   "id": "f241ea85",
   "metadata": {},
   "outputs": [],
   "source": [
    "# Get the subset from Harmony\n",
    "req = get_request(minLon, minLat, maxLon, maxLat, minTime, maxTime)\n",
    "if req: \n",
    "    bbox_files, bbox_urls = submit_request(req, name)"
   ]
  },
  {
   "cell_type": "code",
   "execution_count": null,
   "id": "2452a9b4",
   "metadata": {},
   "outputs": [],
   "source": [
    "print('Downloaded Files:')\n",
    "for n in bbox_files: print(n)"
   ]
  },
  {
   "cell_type": "code",
   "execution_count": null,
   "id": "e93f1b67-275e-4bd1-80bd-415d839719b7",
   "metadata": {},
   "outputs": [],
   "source": [
    "!h5ls -r ./sub_bbox/SNDR.SNPP.CRIMSS.20151102T1718.m06.g174.L2_CLIMCAPS_RET.std.v02_28.G.200331153124_subsetted.nc4"
   ]
  },
  {
   "cell_type": "code",
   "execution_count": null,
   "id": "3a9b1cfc",
   "metadata": {},
   "outputs": [],
   "source": [
    "plotThis(bbox_files[0],'Bounding Box Subset')"
   ]
  },
  {
   "cell_type": "code",
   "execution_count": null,
   "id": "5b25c55c",
   "metadata": {},
   "outputs": [],
   "source": [
    "# Time Slice \n",
    "name = 'time'\n",
    "minLon = -71\n",
    "maxLon = -46\n",
    "minLat = -12\n",
    "maxLat = 13\n",
    "minTime = dt.datetime(2015, 11, 2, 17, 20, 0)\n",
    "maxTime = dt.datetime(2015, 11, 2, 17, 22, 0)"
   ]
  },
  {
   "cell_type": "code",
   "execution_count": null,
   "id": "d6298a75",
   "metadata": {},
   "outputs": [],
   "source": [
    "# Get the subset from Harmony\n",
    "req = get_request(minLon, minLat, maxLon, maxLat, minTime, maxTime)\n",
    "if req: \n",
    "    time_files, time_urls = submit_request(req, name)"
   ]
  },
  {
   "cell_type": "code",
   "execution_count": null,
   "id": "7c0c3ca0",
   "metadata": {
    "scrolled": true
   },
   "outputs": [],
   "source": [
    "print('Downloaded Files:')\n",
    "for n in time_files: print(n)"
   ]
  },
  {
   "cell_type": "code",
   "execution_count": null,
   "id": "7e0a7f99",
   "metadata": {},
   "outputs": [],
   "source": [
    "plotThis(time_files[0],'Time Slice Subset')"
   ]
  },
  {
   "cell_type": "code",
   "execution_count": null,
   "id": "9e50e347-bcf5-4937-aa88-de598411fd05",
   "metadata": {},
   "outputs": [],
   "source": []
  },
  {
   "cell_type": "code",
   "execution_count": null,
   "id": "06a507ae-3978-4917-9c1c-990a196387be",
   "metadata": {},
   "outputs": [],
   "source": []
  },
  {
   "cell_type": "code",
   "execution_count": null,
   "id": "2b7959ea-9e13-4918-8de6-35f4384aeb6c",
   "metadata": {},
   "outputs": [],
   "source": []
  },
  {
   "cell_type": "markdown",
   "id": "9cc23273-1fb5-48a6-8154-783a38e3c30f",
   "metadata": {},
   "source": [
    "# The Shapefile Subset is not yet working through Harmony ..."
   ]
  },
  {
   "cell_type": "code",
   "execution_count": null,
   "id": "cdad9f25",
   "metadata": {},
   "outputs": [],
   "source": [
    "# Shapefile subset\n",
    "name = 'shp'\n",
    "minLon = -180\n",
    "maxLon = 180\n",
    "minLat = -90\n",
    "maxLat = 90\n",
    "minTime = dt.datetime(2015, 11, 2, 17, 18,  0)\n",
    "maxTime = dt.datetime(2015, 11, 2, 17, 23, 59)"
   ]
  },
  {
   "cell_type": "code",
   "execution_count": null,
   "id": "41c23dc9",
   "metadata": {},
   "outputs": [],
   "source": [
    "def get_request_shp(minLon, minLat, maxLon, maxLat, minTime, maxTime, shp_path=None):\n",
    "    request = Request(\n",
    "        collection = Collection(id='C1692982075-GES_DISC'), # SNDRSNIML2CCPRET_2 in PROD\n",
    "        variables=['/surf_air_temp','/surf_air_temp_qc'],   # These must have UMM-Var entries\n",
    "#        spatial = None,\n",
    "        temporal = {'start': minTime, 'stop': maxTime},\n",
    "        shape = '/Users/jmadams1/Shapefiles/test/16ME2500G.shp',\n",
    "    )\n",
    "    if request.is_valid() is False:\n",
    "        print('Invalid request')\n",
    "        return False\n",
    "    else:\n",
    "        return request"
   ]
  },
  {
   "cell_type": "code",
   "execution_count": null,
   "id": "30e9d995",
   "metadata": {
    "tags": []
   },
   "outputs": [],
   "source": [
    "# Get the subset from Harmony\n",
    "req = get_request_shp(minLon, minLat, maxLon, maxLat, minTime, maxTime, shp_path)\n",
    "if req: \n",
    "    shape_files = submit_request(req, name)"
   ]
  },
  {
   "cell_type": "code",
   "execution_count": null,
   "id": "1b437091",
   "metadata": {
    "tags": []
   },
   "outputs": [],
   "source": [
    "req.shape"
   ]
  },
  {
   "cell_type": "code",
   "execution_count": null,
   "id": "5598627d",
   "metadata": {
    "tags": []
   },
   "outputs": [],
   "source": [
    "for fn in shape_files: print(fn)"
   ]
  },
  {
   "cell_type": "code",
   "execution_count": null,
   "id": "ef220588",
   "metadata": {
    "tags": []
   },
   "outputs": [],
   "source": [
    "import shapefile as shp\n",
    "import cartopy.io.shapereader as shpreader\n",
    "sf = '/Users/jmadams1/Shapefiles/test/bra_admbnda_adm0_ibge_2020.shp'\n",
    "shapes = list(shpreader.Reader(sf).geometries())\n",
    "\n",
    "f = nc4.Dataset('/Users/jmadams1/GDDS/l2ss-py-main/shp_test_output.nc','r')\n",
    "var  = f['surf_air_temp']\n",
    "qflg = f['surf_air_temp_qc']   \n",
    "lats = f['lat']\n",
    "lons = f['lon']\n",
    "\n",
    "# Quality flag meanings:\n",
    "# 0=best  1=good  2=do_not_use\n",
    "varQ = var[:]\n",
    "qf = qflg[:]\n",
    "np.place(varQ, qf>1, np.nan)\n",
    "\n",
    "myExtent = [-82,-34,-40,12]   \n",
    "myExtent = [-74,-46,-15,13]   \n",
    "\n",
    "# Draw a scatter plot\n",
    "fig = plt.figure(figsize=(20,10))\n",
    "ax = fig.add_subplot(1,1,1,projection=ccrs.PlateCarree())\n",
    "ax.set_extent(myExtent)\n",
    "p = ax.scatter(lons[:], lats[:], c=varQ, cmap=plt.cm.Spectral_r, \n",
    "               marker='.', s=150, transform=ccrs.PlateCarree())\n",
    "title = 'Surface Air Temperature (Quality Flag Applied) -- Brazil Shapefile Subset'\n",
    "b = plt.title(title)\n",
    "\n",
    "# Add coastlines, Brazil shapefile and gridlines\n",
    "ax.coastlines(resolution=\"50m\",linewidth=0.75)\n",
    "ax.add_geometries(shapes, ccrs.PlateCarree(),edgecolor='blue',facecolor='none',alpha=0.7)\n",
    "gl = ax.gridlines(crs=ccrs.PlateCarree(), draw_labels=True,\n",
    "                  linewidth=0.8, color='#555555', alpha=0.5, linestyle='--')\n",
    "gl.top_labels = False\n",
    "gl.right_labels = False\n",
    "gl.xlines = True\n",
    "DrawColorbar(fig,ax,p,'Kelvin')\n",
    "f.close()"
   ]
  }
 ],
 "metadata": {
  "kernelspec": {
   "display_name": "Python 3 (ipykernel)",
   "language": "python",
   "name": "python3"
  },
  "language_info": {
   "codemirror_mode": {
    "name": "ipython",
    "version": 3
   },
   "file_extension": ".py",
   "mimetype": "text/x-python",
   "name": "python",
   "nbconvert_exporter": "python",
   "pygments_lexer": "ipython3",
   "version": "3.9.10"
  }
 },
 "nbformat": 4,
 "nbformat_minor": 5
}
